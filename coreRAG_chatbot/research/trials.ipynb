{
 "cells": [
  {
   "cell_type": "markdown",
   "id": "2d58609d",
   "metadata": {},
   "source": [
    "#Load dataset"
   ]
  },
  {
   "cell_type": "code",
   "execution_count": 7,
   "id": "c5f19c5b",
   "metadata": {},
   "outputs": [
    {
     "data": {
      "text/plain": [
       "'e:\\\\SpringBoot\\\\DoAnNganh\\\\Medical_News\\\\coreRAG_chatbot'"
      ]
     },
     "execution_count": 7,
     "metadata": {},
     "output_type": "execute_result"
    }
   ],
   "source": [
    "%pwd"
   ]
  },
  {
   "cell_type": "code",
   "execution_count": null,
   "id": "f748cc87",
   "metadata": {},
   "outputs": [],
   "source": [
    "import os\n",
    "os.chdir('../')\n"
   ]
  },
  {
   "cell_type": "code",
   "execution_count": 6,
   "id": "3557b4d4",
   "metadata": {},
   "outputs": [
    {
     "data": {
      "text/plain": [
       "'e:\\\\SpringBoot\\\\DoAnNganh\\\\Medical_News\\\\coreRAG_chatbot'"
      ]
     },
     "execution_count": 6,
     "metadata": {},
     "output_type": "execute_result"
    }
   ],
   "source": [
    "%pwd   # -- check OK :   'e:\\\\SpringBoot\\\\DoAnNganh\\\\Medical_News\\\\coreRAG_chatbot'\n"
   ]
  },
  {
   "cell_type": "code",
   "execution_count": 8,
   "id": "83cddc02",
   "metadata": {},
   "outputs": [],
   "source": [
    "\n",
    "from langchain.document_loaders import DirectoryLoader , UnstructuredWordDocumentLoader\n",
    "from langchain.text_splitter import RecursiveCharacterTextSplitter    \n",
    "\n",
    "\n",
    "def load_word_files(data):\n",
    "    loader = DirectoryLoader(\n",
    "        path=data,\n",
    "        glob=\"*.docx\",\n",
    "        loader_cls=UnstructuredWordDocumentLoader #loại file cần load   \n",
    "    )\n",
    "    documents = loader.load()\n",
    "    return documents\n"
   ]
  },
  {
   "cell_type": "code",
   "execution_count": 9,
   "id": "9a8afe61",
   "metadata": {},
   "outputs": [],
   "source": [
    "extracted_data = load_word_files(data='DataChatbot/')"
   ]
  },
  {
   "cell_type": "code",
   "execution_count": 10,
   "id": "4b2d10c5",
   "metadata": {},
   "outputs": [
    {
     "data": {
      "text/plain": [
       "[Document(metadata={'source': 'DataChatbot\\\\Diễn đàn Bác sĩ trẻ Việt Nam › Y khoa.docx'}, page_content='Mới nhất\\n\\n[Phân tích dữ liệu bằng R không khó như bạn nghĩ](https://ykhoa.org/phan-tich-du-lieu-bang-r-khong-kho-nhu-ban-nghi/ \"Phân tích dữ liệu bằng R không khó như bạn nghĩ\")\\n\\n[Mụn trứng cá – Kẻ thù thầm lặng của làn da](https://ykhoa.org/mun-trung-ca-ke-thu-tham-lang-cua-lan-da/ \"Mụn trứng cá – Kẻ thù thầm lặng của làn da\")\\n\\n[Nguy Cơ Gây Mê và Gây Tê Trong Phẫu Thuật](https://ykhoa.org/nguy-co-gay-me-va-gay-te-trong-phau-thuat/ \"Nguy Cơ Gây Mê và Gây Tê Trong Phẫu Thuật\")\\n\\n[Viêm vùng chậu](https://ykhoa.org/viem-vung-chau/ \"Viêm vùng chậu\")\\n\\n[Xuất huyết tử cung bất thường](https://ykhoa.org/xuat-huyet-tu-cung-bat-thuong/ \"Xuất huyết tử cung bất thường\")\\n\\n[10 “Sai Lầm” Trong Phân Tích Dữ Liệu Y Khoa: Bí Kíp “Gỡ Rối” Cho Nhà Nghiên Cứu & Bác Sĩ](https://ykhoa.org/10-sai-lam-trong-phan-tich-du-lieu-y-khoa-bi-kip-go-roi-cho-nha-nghien-cuu-bac-si/ \"10 “Sai Lầm” Trong Phân Tích Dữ Liệu Y Khoa: Bí Kíp “Gỡ Rối” Cho Nhà Nghiên Cứu & Bác Sĩ\")\\n\\n[Trục hạ đồi-yên-buồng trứng thời kỳ mãn kinh](https://ykhoa.org/truc-ha-doi-yen-buong-trung-thoi-ky-quanh-man-kinh-2/ \"Trục hạ đồi-yên-buồng trứng thời kỳ mãn kinh\")\\n\\n[Tóc Bạc – Giải Pháp Điều Trị Khoa Học](https://ykhoa.org/toc-bac-giai-phap-dieu-tri-khoa-hoc/ \"Tóc Bạc – Giải Pháp Điều Trị Khoa Học\")\\n\\n[Phân Loại Sức Khỏe Trước Phẫu Thuật Theo ASA](https://ykhoa.org/phan-loai-suc-khoe-truoc-phau-thuat-theo-asa/ \"Phân Loại Sức Khỏe Trước Phẫu Thuật Theo ASA\")\\n\\n[Phòng Ngừa Sốt Xuất Huyết, Tay Chân Miệng và Các Bệnh Truyền Nhiễm Khác Cho Trẻ Em Vào Mùa Hè](https://ykhoa.org/phong-ngua-sot-xuat-huyet-tay-chan-mieng-va-cac-benh-truyen-nhiem-khac-cho-tre-em-vao-mua-he/ \"Phòng Ngừa Sốt Xuất Huyết, Tay Chân Miệng và Các Bệnh Truyền Nhiễm Khác Cho Trẻ Em Vào Mùa Hè\")\\n\\n|     |     |     |\\n\\n| --- | --- | --- |\\n\\n| |     |     |\\n\\n| --- | --- |\\n\\n|  | × | | search |  |\\n\\nWeb\\n\\nImage\\n\\n|     |\\n\\n| --- |\\n\\n|  |\\n\\n## Diễn đàn Bác sĩ trẻ Việt Nam\\n\\nY khoa không phải là một nghệ thuật, Y khoa là một khoa học thật sự, một khoa học vô cùng phức tạp đòi hỏi người hành nghề y phải khéo léo vận dụng kiến thức để không bỏ qua cơ hội cứu chữa người bệnh. Nếu mỗi người y khoa Việt Nam góp lên một tiếng nói, liên kết lại, chúng ta có thể thay đổi căn bản giáo dục Y khoa nước nhà. Hãy tham gia với chúng tôi tại:\\n\\nhttps://www.facebook.com/groups/diendanbacsitrevietnam\\n\\n## [\\\\[Vypo\\\\] Người ngành nói chuyện ngành](https://ykhoa.org/vypo-nguoi-nganh-noi-chuyen-nganh/)\\n\\n[Diễn đàn Bác sĩ trẻ Việt Nam](https://ykhoa.org/profile/?uid=vydf \"\")[Uncategorized](https://ykhoa.org/category/phan-loai/uncategorized/)535\\n\\nNgười ngành nói chuyện ngành Chia sẻ từ BSNT. Việt Bằng Lương về chuyên ngành GPB – Một ngành mình luôn bị cuốn hút đặc biệt. Thấy các chuyên ngành bạn rộn ràng đăng bài, đăng video quảng bá, thu hút tân Nội trú mà nhà mình đìu hiu chợ …\\n\\n[Chi tiết](https://ykhoa.org/vypo-nguoi-nganh-noi-chuyen-nganh/)\\n\\n## [\\\\[Vypo\\\\] Thuật ngữ y khoa: Phúc mạc và niêm phúc mạc (phần 1)](https://ykhoa.org/vypo-thuat-ngu-y-khoa-phuc-mac-va-niem-phuc-mac-phan-1/)\\n\\n[Diễn đàn Bác sĩ trẻ Việt Nam](https://ykhoa.org/profile/?uid=vydf \"\")[Uncategorized](https://ykhoa.org/category/phan-loai/uncategorized/)2,371\\n\\n\\\\*Mến chào các bạn! Hôm nay, chúng mình sẽ giới thiệu đến các bạn một số thuật ngữ liên quan đến phúc mạc và\\xa0viêm phúc mạc. Hy vọng những thuật ngữ này sẽ giúp ích cho các bạn trong việc đọc các tài liệu liên quan đến lĩnh vực Ngoại …\\n\\n[Chi tiết](https://ykhoa.org/vypo-thuat-ngu-y-khoa-phuc-mac-va-niem-phuc-mac-phan-1/)\\n\\n## [\\\\[Vypo\\\\] Dấu “Đi lặc cách hồi”](https://ykhoa.org/vypo-dau-di-lac-cach-hoi/)\\n\\n[Diễn đàn Bác sĩ trẻ Việt Nam](https://ykhoa.org/profile/?uid=vydf \"\")[Tài liệu](https://ykhoa.org/category/tai-lieu/)3,126\\n\\nHồi còn sinh viên đi học mình hay được mô tả về dấu “đi lặc cách hồi” mặc dù hiểu rất mơ hồ nhưng không bao giờ quên vì cái tên quá đặc biệt của nó. Đọc định nghĩa về “Claudication” mình cảm thấy khá tương đồng, nhưng từ đây …\\n\\n[Chi tiết](https://ykhoa.org/vypo-dau-di-lac-cach-hoi/)\\n\\n## [\\\\[Vypo\\\\] Bệnh lý rễ cổ và thắt lưng – kiến thức thiết yếu cho sinh viên](https://ykhoa.org/vypo-benh-ly-re-co-va-that-lung-kien-thuc-thiet-yeu-cho-sinh-vien/)\\n\\n[Diễn đàn Bác sĩ trẻ Việt Nam](https://ykhoa.org/profile/?uid=vydf \"\")[Ca lâm sàng](https://ykhoa.org/category/khoa-hoc/khoa-hoc-lam-sang/ca-lam-sang/)542\\n\\nBS. Trương Văn Trí Ca lâm sàng và câu hỏi BN nam, 35 tuổi, đau dữ dội ở phía cổ bên phải. Lần đầu tiên anh ta có triệu chứng này là khi nhấc tạ 100 kg ở tư thế nằm trên ghế. Đau ở cổ phải dữ dội và …\\n\\n[Chi tiết](https://ykhoa.org/vypo-benh-ly-re-co-va-that-lung-kien-thuc-thiet-yeu-cho-sinh-vien/)\\n\\n## [\\\\[Vypo\\\\] Nội tiết học vè tình yêu](https://ykhoa.org/vypo-noi-tiet-hoc-ve-tinh-yeu/)\\n\\n[Diễn đàn Bác sĩ trẻ Việt Nam](https://ykhoa.org/profile/?uid=vydf \"\")[Phân loại](https://ykhoa.org/category/phan-loai/)662\\n\\nNỘI TIẾT HỌC VỀ TÌNH YÊU Bs Lý Đại Lương Trong phạm vi status này, tôi muốn trình bày với bác những hiểu biết của khoa học về cách làm thế nào mà các hormone chi phối cảm xúc khi yêu. Status này không nhằm mục đích đánh giá tình …\\n\\n[Chi tiết](https://ykhoa.org/vypo-noi-tiet-hoc-ve-tinh-yeu/)\\n\\n## [\\\\[VYPO\\\\] Thế nào là một ly coffee tiêu chuẩn ?](https://ykhoa.org/vypo-the-nao-la-mot-ly-coffee-tieu-chuan/)\\n\\n[Diễn đàn Bác sĩ trẻ Việt Nam](https://ykhoa.org/profile/?uid=vydf \"\")[Uncategorized](https://ykhoa.org/category/phan-loai/uncategorized/)581\\n\\n“Uống coffee như thế nào cho khoa học và liệu coffee, caffeine có tốt cho sức khoẻ?” “Uống nước tăng lực chứa cafeine như “Bò Húc” kèm rượu thì có tốt không?” “Đối với từng đối tượng khác nhau thì uống coffee với lượng như như thế nào là hợp …\\n\\n[Chi tiết](https://ykhoa.org/vypo-the-nao-la-mot-ly-coffee-tieu-chuan/)\\n\\n## [\\\\[VYPO\\\\] Coffee, Caffeine và sức khỏe](https://ykhoa.org/vypo-coffee-caffeine-va-suc-khoe/)\\n\\n[Diễn đàn Bác sĩ trẻ Việt Nam](https://ykhoa.org/profile/?uid=vydf \"\")[Uncategorized](https://ykhoa.org/category/phan-loai/uncategorized/)725\\n\\n“Thế nào là một ly coffee tiêu chuẩn?” “Uống coffee như thế nào cho khoa học và liệu coffee, caffeine có tốt cho sức khoẻ?” “Uống nước tăng lực chứa cafeine như “Bò Húc” kèm rượu thì có tốt không?” “Đối với từng đối tượng khác nhau thì uống coffee …\\n\\n[Chi tiết](https://ykhoa.org/vypo-coffee-caffeine-va-suc-khoe/)\\n\\n## [\\\\[Vypo\\\\] “Đổ Vỏ” (Paternity Fraud) hay không?](https://ykhoa.org/vypo-do-vo-paternity-fraud-hay-khong/)\\n\\n[Diễn đàn Bác sĩ trẻ Việt Nam](https://ykhoa.org/profile/?uid=vydf \"\")[Tài liệu](https://ykhoa.org/category/tai-lieu/)587\\n\\nBs. Phan Trúc Vừa qua mình nhận được cuộc gọi xin nhờ tư vấn của một ông bố với nội dung khá nhạy cảm: “Thưa Bs, tôi có nhóm máu AB, nay tình cờ biết được con tôi nhóm máu O, tôi có hỏi thăm nhiều người và họ nói …\\n\\n[Chi tiết](https://ykhoa.org/vypo-do-vo-paternity-fraud-hay-khong/)\\n\\n## [4 Significant Tips To Remember When Writing An Essay](https://ykhoa.org/4-significant-tips-to-remember-when-writing-an-essay/)\\n\\n[Diễn đàn Bác sĩ trẻ Việt Nam](https://ykhoa.org/profile/?uid=vydf \"\")[Uncategorized](https://ykhoa.org/category/phan-loai/uncategorized/)403\\n\\nWhile it’s not too tough to write a good written essay, there are certain things you need to be aware of so you don’t end up needing to rewrite the whole thing in the end. If you follow these three tips, you can dramatically boost your odds of being effective …\\n\\n[Chi tiết](https://ykhoa.org/4-significant-tips-to-remember-when-writing-an-essay/)\\n\\n## [How to Begin Using Building a List To Your Mailorder Bride Site](https://ykhoa.org/how-to-begin-using-building-a-list-to-your-mailorder-bride-site/)\\n\\n[Diễn đàn Bác sĩ trẻ Việt Nam](https://ykhoa.org/profile/?uid=vydf \"\")[Uncategorized](https://ykhoa.org/category/phan-loai/uncategorized/)310\\n\\nIf you’ve stumbled up on this guide and are an avid user of the universe, you may not know latin mail order wives that Reddit can be just a superb place to locate details that is helpful. Here is a simple suggestion. You have to begin somewhere and Reddit is …\\n\\n[Chi tiết](https://ykhoa.org/how-to-begin-using-building-a-list-to-your-mailorder-bride-site/)\\n\\nPage 1 of 151 [2](https://ykhoa.org/author/vydf/page/2/ \"2\") [3](https://ykhoa.org/author/vydf/page/3/ \"3\") [4](https://ykhoa.org/author/vydf/page/4/ \"4\") [5](https://ykhoa.org/author/vydf/page/5/ \"5\")[»](https://ykhoa.org/author/vydf/page/2/)[10](https://ykhoa.org/author/vydf/page/10/ \"10\")... [Last »](https://ykhoa.org/author/vydf/page/15/ \"Last »\")\\n\\nPowered by Huynh Le Thai Bao\\n\\n[Facebook](https://www.facebook.com/ylamsang.ykhoa \"Facebook\")[Youtube](https://www.youtube.com/channel/UCfRf7i26k7iSdcNyT4zf9jA \"Youtube\")\\n\\n© Copyright 2025, Ykhoa.org\\n\\n[Trang chủ](https://ykhoa.org/)\\n\\n[Bài mới](https://ykhoa.org/bai-moi-2/)\\n\\n[Cập nhật & nghiên cứu](https://ykhoa.org/category/cap-nhat/)\\n\\n[Khóa học Y khoa\\\\\\\\\\n\\n▼](https://ykhoa.org/khoa-hoc-ky-nang-y-khoa/)\\n\\n- [Khóa học lâm sàng\\\\\\\\\\n\\n    ▼](https://ykhoa.org/category/khoa-hoc/khoa-hoc-lam-sang/)\\n\\n- [Nội khoa Harrison](https://ykhoa.org/category/khoa-hoc/khoa-hoc-lam-sang/noi-khoa-harrison/)\\n\\n- [Case lâm sàng](https://ykhoa.org/category/khoa-hoc/khoa-hoc-lam-sang/ca-lam-sang/)\\n\\n- [Kỹ năng lâm sàng Nội khoa](https://ykhoa.org/category/khoa-hoc/khoa-hoc-lam-sang/ky-nang-lam-sang-noi-khoa/)\\n\\n- [TBL Sản](https://ykhoa.org/category/khoa-hoc/khoa-hoc-lam-sang/tbl-san/)\\n\\n- [Tiếp cận lâm sàng Nội khoa](https://ykhoa.org/category/khoa-hoc/khoa-hoc-lam-sang/tiep-can-lam-sang-noi-khoa/)\\n\\n- [Bệnh học tim mạch](https://ykhoa.org/category/khoa-hoc/khoa-hoc-lam-sang/benh-hoc-tim-mach/)\\n\\n- [Khóa học cận lâm sàng\\\\\\\\\\n\\n    ▼](https://ykhoa.org/category/khoa-hoc/khoa-hoc-can-lam-sang/)\\n\\n- [Xquang Ngực](https://ykhoa.org/category/khoa-hoc/khoa-hoc-can-lam-sang/xquang-nguc/)\\n\\n- [Siêu âm](https://ykhoa.org/category/khoa-hoc/khoa-hoc-can-lam-sang/sieu-am/)\\n\\n- [CT-MRI](https://ykhoa.org/category/khoa-hoc/khoa-hoc-can-lam-sang/ct-mri/)\\n\\n- [Xét nghiệm](https://ykhoa.org/category/khoa-hoc/khoa-hoc-can-lam-sang/xet-nghiem/)\\n\\n- [ECG](https://ykhoa.org/category/khoa-hoc/khoa-hoc-can-lam-sang/ecg/)\\n\\n- [Khóa học Y khoa Cơ sở\\\\\\\\\\n\\n    ▼](https://ykhoa.org/category/khoa-hoc/khoa-hoc-y-khoa-co-so/)\\n\\n- [Sinh lý thú vị](https://ykhoa.org/category/khoa-hoc/khoa-hoc-y-khoa-co-so/sinh-ly-thu-vi/)\\n\\n- [Vi sinh lâm sàng](https://ykhoa.org/category/khoa-hoc/khoa-hoc-y-khoa-co-so/vi-sinh-lam-sang/)\\n\\n- [Sinh lý Guyton](https://ykhoa.org/category/khoa-hoc/khoa-hoc-y-khoa-co-so/sinh-ly-guyton/)\\n\\n- [Cơ chế triệu chứng](https://ykhoa.org/category/khoa-hoc/khoa-hoc-y-khoa-co-so/co-che-trieu-chung/)\\n\\n- [Khóa học Y khoa cơ bản\\\\\\\\\\n\\n    ▼](https://ykhoa.org/category/khoa-hoc/khoa-hoc-y-khoa-co-ban/)\\n\\n- [Y khoa cơ bản](https://ykhoa.org/category/khoa-hoc/khoa-hoc-y-khoa-co-ban/y-khoa-co-ban/)\\n\\n- [Kinh nghiệm sinh viên Y](https://ykhoa.org/category/khoa-hoc/khoa-hoc-y-khoa-co-ban/kinh-nghiem-sinh-vien-y/)\\n\\n- [CME – Khóa đào tạo liên tục\\\\\\\\\\n\\n    ▼](https://ykhoa.org/category/khoa-hoc/cme/)\\n\\n- [SARI 2020](https://ykhoa.org/category/khoa-hoc/cme/sari-2020/)\\n\\n- [Khóa học qua Video](https://www.youtube.com/channel/UCfRf7i26k7iSdcNyT4zf9jA)\\n\\n- [UpToDate miễn phí](https://ykhoa.org/thu-thuat-uptodate-can-thiet-nhu-the-nao-cho-bac-si-va-sinh-vien-y-khoa/)\\n\\n[Chuyên đề\\\\\\\\\\n\\n▼](https://ykhoa.org/category/chuyen-de/)\\n\\n- [Tin tức\\\\\\\\\\n\\n    ▼](https://ykhoa.org/category/tin-tuc/)\\n\\n- [Hợp tác](https://ykhoa.org/ykhoa-org-hop-tac-cung-phat-trien/)\\n\\n[COVID-19](https://ykhoa.org/category/chuyen-de/corona/)\\n\\n[Dành cho cộng đồng](https://ykhoa.org/song-khoe/)\\n\\n[Tài liệu\\\\\\\\\\n\\n▼](https://ykhoa.org/category/tai-lieu/)\\n\\n- [Ebook](https://ykhoa.org/category/tai-lieu/ebook/)\\n\\n- [Guidelines](https://ykhoa.org/category/tai-lieu/guidelines/)\\n\\n- [Bài giảng](https://ykhoa.org/category/tai-lieu/bai-giang/)\\n\\n- [Phần mềm](https://ykhoa.org/category/tai-lieu/phan-mem/)\\n\\n[Dự án\\\\\\\\\\n\\n▼](https://ykhoa.org/hst-y-khoa-online-thanh-tuu-sau-2-nam/)\\n\\n- [Hệ sinh thái Y khoa online](https://ykhoa.org/hst-y-khoa-online-thanh-tuu-sau-2-nam/)\\n\\n- [Hướng dẫn cài đặt app](https://ykhoa.org/app-ykhoa-org/)\\n\\n[Trang chủ](https://ykhoa.org/)\\n\\n[Bài mới](https://ykhoa.org/bai-moi-2/)\\n\\n[Cập nhật & nghiên cứu](https://ykhoa.org/category/cap-nhat/)\\n\\n[Khóa học Y khoa\\\\\\\\\\n\\n▼](https://ykhoa.org/khoa-hoc-ky-nang-y-khoa/)\\n\\n- [Khóa học lâm sàng\\\\\\\\\\n\\n    ▼](https://ykhoa.org/category/khoa-hoc/khoa-hoc-lam-sang/)\\n\\n- [Nội khoa Harrison](https://ykhoa.org/category/khoa-hoc/khoa-hoc-lam-sang/noi-khoa-harrison/)\\n\\n- [Case lâm sàng](https://ykhoa.org/category/khoa-hoc/khoa-hoc-lam-sang/ca-lam-sang/)\\n\\n- [Kỹ năng lâm sàng Nội khoa](https://ykhoa.org/category/khoa-hoc/khoa-hoc-lam-sang/ky-nang-lam-sang-noi-khoa/)\\n\\n- [TBL Sản](https://ykhoa.org/category/khoa-hoc/khoa-hoc-lam-sang/tbl-san/)\\n\\n- [Tiếp cận lâm sàng Nội khoa](https://ykhoa.org/category/khoa-hoc/khoa-hoc-lam-sang/tiep-can-lam-sang-noi-khoa/)\\n\\n- [Bệnh học tim mạch](https://ykhoa.org/category/khoa-hoc/khoa-hoc-lam-sang/benh-hoc-tim-mach/)\\n\\n- [Khóa học cận lâm sàng\\\\\\\\\\n\\n    ▼](https://ykhoa.org/category/khoa-hoc/khoa-hoc-can-lam-sang/)\\n\\n- [Xquang Ngực](https://ykhoa.org/category/khoa-hoc/khoa-hoc-can-lam-sang/xquang-nguc/)\\n\\n- [Siêu âm](https://ykhoa.org/category/khoa-hoc/khoa-hoc-can-lam-sang/sieu-am/)\\n\\n- [CT-MRI](https://ykhoa.org/category/khoa-hoc/khoa-hoc-can-lam-sang/ct-mri/)\\n\\n- [Xét nghiệm](https://ykhoa.org/category/khoa-hoc/khoa-hoc-can-lam-sang/xet-nghiem/)\\n\\n- [ECG](https://ykhoa.org/category/khoa-hoc/khoa-hoc-can-lam-sang/ecg/)\\n\\n- [Khóa học Y khoa Cơ sở\\\\\\\\\\n\\n    ▼](https://ykhoa.org/category/khoa-hoc/khoa-hoc-y-khoa-co-so/)\\n\\n- [Sinh lý thú vị](https://ykhoa.org/category/khoa-hoc/khoa-hoc-y-khoa-co-so/sinh-ly-thu-vi/)\\n\\n- [Vi sinh lâm sàng](https://ykhoa.org/category/khoa-hoc/khoa-hoc-y-khoa-co-so/vi-sinh-lam-sang/)\\n\\n- [Sinh lý Guyton](https://ykhoa.org/category/khoa-hoc/khoa-hoc-y-khoa-co-so/sinh-ly-guyton/)\\n\\n- [Cơ chế triệu chứng](https://ykhoa.org/category/khoa-hoc/khoa-hoc-y-khoa-co-so/co-che-trieu-chung/)\\n\\n- [Khóa học Y khoa cơ bản\\\\\\\\\\n\\n    ▼](https://ykhoa.org/category/khoa-hoc/khoa-hoc-y-khoa-co-ban/)\\n\\n- [Y khoa cơ bản](https://ykhoa.org/category/khoa-hoc/khoa-hoc-y-khoa-co-ban/y-khoa-co-ban/)\\n\\n- [Kinh nghiệm sinh viên Y](https://ykhoa.org/category/khoa-hoc/khoa-hoc-y-khoa-co-ban/kinh-nghiem-sinh-vien-y/)\\n\\n- [CME – Khóa đào tạo liên tục\\\\\\\\\\n\\n    ▼](https://ykhoa.org/category/khoa-hoc/cme/)\\n\\n- [SARI 2020](https://ykhoa.org/category/khoa-hoc/cme/sari-2020/)\\n\\n- [Khóa học qua Video](https://www.youtube.com/channel/UCfRf7i26k7iSdcNyT4zf9jA)\\n\\n- [UpToDate miễn phí](https://ykhoa.org/thu-thuat-uptodate-can-thiet-nhu-the-nao-cho-bac-si-va-sinh-vien-y-khoa/)\\n\\n[Chuyên đề\\\\\\\\\\n\\n▼](https://ykhoa.org/category/chuyen-de/)\\n\\n- [Tin tức\\\\\\\\\\n\\n    ▼](https://ykhoa.org/category/tin-tuc/)\\n\\n- [Hợp tác](https://ykhoa.org/ykhoa-org-hop-tac-cung-phat-trien/)\\n\\n[COVID-19](https://ykhoa.org/category/chuyen-de/corona/)\\n\\n[Dành cho cộng đồng](https://ykhoa.org/song-khoe/)\\n\\n[Tài liệu\\\\\\\\\\n\\n▼](https://ykhoa.org/category/tai-lieu/)\\n\\n- [Ebook](https://ykhoa.org/category/tai-lieu/ebook/)\\n\\n- [Guidelines](https://ykhoa.org/category/tai-lieu/guidelines/)\\n\\n- [Bài giảng](https://ykhoa.org/category/tai-lieu/bai-giang/)\\n\\n- [Phần mềm](https://ykhoa.org/category/tai-lieu/phan-mem/)\\n\\n[Dự án\\\\\\\\\\n\\n▼](https://ykhoa.org/hst-y-khoa-online-thanh-tuu-sau-2-nam/)\\n\\n- [Hệ sinh thái Y khoa online](https://ykhoa.org/hst-y-khoa-online-thanh-tuu-sau-2-nam/)\\n\\n- [Hướng dẫn cài đặt app](https://ykhoa.org/app-ykhoa-org/)\\n\\n|     |     |\\n\\n| --- | --- |\\n\\n|  |  |')]"
      ]
     },
     "execution_count": 10,
     "metadata": {},
     "output_type": "execute_result"
    }
   ],
   "source": [
    "extracted_data"
   ]
  },
  {
   "cell_type": "markdown",
   "id": "fc8db5cd",
   "metadata": {},
   "source": [
    "#Preprocessing (Tiền xử lý dữ liệu)\n"
   ]
  },
  {
   "cell_type": "code",
   "execution_count": 11,
   "id": "ed045d0d",
   "metadata": {},
   "outputs": [],
   "source": [
    "import re\n",
    "\n",
    "def preprocess_data(text):\n",
    "\n",
    "    text = re.sub(r'http\\S+', '', text)\n",
    "    #Xoá các ký tự bảng markdown (|, ---)\n",
    "    text = re.sub(r'\\|.*?\\|', '', text)\n",
    "    text = re.sub(r'-{2,}', '', text)\n",
    "    #Xóa emoji và Unicode không cần thiết\n",
    "    text = re.sub(r'[^\\w\\s,.!?à-ỹÀ-Ỹ\\-–]', '', text)\n",
    "\n",
    "    text = re.sub(r'\\s+', ' ', text).strip()\n",
    "    return text\n",
    "    \n",
    "    "
   ]
  },
  {
   "cell_type": "code",
   "execution_count": null,
   "id": "f2b4c6e5",
   "metadata": {},
   "outputs": [],
   "source": [
    "from langchain.schema import Document\n",
    "\n",
    "cleaned_data = []\n",
    "for doc in extracted_data:\n",
    "    cleaned_content = preprocess_data(doc.page_content)\n",
    "    cleaned_doc = Document(\n",
    "        page_content=cleaned_content,\n",
    "        metadata=doc.metadata \n",
    "    )\n",
    "    cleaned_data.append(cleaned_doc)\n",
    "\n",
    "\n"
   ]
  },
  {
   "cell_type": "code",
   "execution_count": 13,
   "id": "34780198",
   "metadata": {},
   "outputs": [
    {
     "data": {
      "text/plain": [
       "[Document(metadata={'source': 'DataChatbot\\\\Diễn đàn Bác sĩ trẻ Việt Nam › Y khoa.docx'}, page_content='Mới nhất Phân tích dữ liệu bằng R không khó như bạn nghĩ Phân tích dữ liệu bằng R không khó như bạn nghĩ Mụn trứng cá – Kẻ thù thầm lặng của làn da Mụn trứng cá – Kẻ thù thầm lặng của làn da Nguy Cơ Gây Mê và Gây Tê Trong Phẫu Thuật Nguy Cơ Gây Mê và Gây Tê Trong Phẫu Thuật Viêm vùng chậu Viêm vùng chậu Xuất huyết tử cung bất thường Xuất huyết tử cung bất thường 10 Sai Lầm Trong Phân Tích Dữ Liệu Y Khoa Bí Kíp Gỡ Rối Cho Nhà Nghiên Cứu Bác Sĩ 10 Sai Lầm Trong Phân Tích Dữ Liệu Y Khoa Bí Kíp Gỡ Rối Cho Nhà Nghiên Cứu Bác Sĩ Trục hạ đồi-yên-buồng trứng thời kỳ mãn kinh Trục hạ đồi-yên-buồng trứng thời kỳ mãn kinh Tóc Bạc – Giải Pháp Điều Trị Khoa Học Tóc Bạc – Giải Pháp Điều Trị Khoa Học Phân Loại Sức Khỏe Trước Phẫu Thuật Theo ASA Phân Loại Sức Khỏe Trước Phẫu Thuật Theo ASA Phòng Ngừa Sốt Xuất Huyết, Tay Chân Miệng và Các Bệnh Truyền Nhiễm Khác Cho Trẻ Em Vào Mùa Hè Phòng Ngừa Sốt Xuất Huyết, Tay Chân Miệng và Các Bệnh Truyền Nhiễm Khác Cho Trẻ Em Vào Mùa Hè × search Web Image Diễn đàn Bác sĩ trẻ Việt Nam Y khoa không phải là một nghệ thuật, Y khoa là một khoa học thật sự, một khoa học vô cùng phức tạp đòi hỏi người hành nghề y phải khéo léo vận dụng kiến thức để không bỏ qua cơ hội cứu chữa người bệnh. Nếu mỗi người y khoa Việt Nam góp lên một tiếng nói, liên kết lại, chúng ta có thể thay đổi căn bản giáo dục Y khoa nước nhà. Hãy tham gia với chúng tôi tại Vypo Người ngành nói chuyện ngành Diễn đàn Bác sĩ trẻ Việt Nam Uncategorized Người ngành nói chuyện ngành Chia sẻ từ BSNT. Việt Bằng Lương về chuyên ngành GPB – Một ngành mình luôn bị cuốn hút đặc biệt. Thấy các chuyên ngành bạn rộn ràng đăng bài, đăng video quảng bá, thu hút tân Nội trú mà nhà mình đìu hiu chợ Chi tiết Vypo Thuật ngữ y khoa Phúc mạc và niêm phúc mạc phần 1 Diễn đàn Bác sĩ trẻ Việt Nam Uncategorized Mến chào các bạn! Hôm nay, chúng mình sẽ giới thiệu đến các bạn một số thuật ngữ liên quan đến phúc mạc và viêm phúc mạc. Hy vọng những thuật ngữ này sẽ giúp ích cho các bạn trong việc đọc các tài liệu liên quan đến lĩnh vực Ngoại Chi tiết Vypo Dấu Đi lặc cách hồi Diễn đàn Bác sĩ trẻ Việt Nam Tài liệu Hồi còn sinh viên đi học mình hay được mô tả về dấu đi lặc cách hồi mặc dù hiểu rất mơ hồ nhưng không bao giờ quên vì cái tên quá đặc biệt của nó. Đọc định nghĩa về Claudication mình cảm thấy khá tương đồng, nhưng từ đây Chi tiết Vypo Bệnh lý rễ cổ và thắt lưng – kiến thức thiết yếu cho sinh viên Diễn đàn Bác sĩ trẻ Việt Nam Ca lâm sàng BS. Trương Văn Trí Ca lâm sàng và câu hỏi BN nam, 35 tuổi, đau dữ dội ở phía cổ bên phải. Lần đầu tiên anh ta có triệu chứng này là khi nhấc tạ 100 kg ở tư thế nằm trên ghế. Đau ở cổ phải dữ dội và Chi tiết Vypo Nội tiết học vè tình yêu Diễn đàn Bác sĩ trẻ Việt Nam Phân loại NỘI TIẾT HỌC VỀ TÌNH YÊU Bs Lý Đại Lương Trong phạm vi status này, tôi muốn trình bày với bác những hiểu biết của khoa học về cách làm thế nào mà các hormone chi phối cảm xúc khi yêu. Status này không nhằm mục đích đánh giá tình Chi tiết VYPO Thế nào là một ly coffee tiêu chuẩn ? Diễn đàn Bác sĩ trẻ Việt Nam Uncategorized Uống coffee như thế nào cho khoa học và liệu coffee, caffeine có tốt cho sức khoẻ? Uống nước tăng lực chứa cafeine như Bò Húc kèm rượu thì có tốt không? Đối với từng đối tượng khác nhau thì uống coffee với lượng như như thế nào là hợp Chi tiết VYPO Coffee, Caffeine và sức khỏe Diễn đàn Bác sĩ trẻ Việt Nam Uncategorized Thế nào là một ly coffee tiêu chuẩn? Uống coffee như thế nào cho khoa học và liệu coffee, caffeine có tốt cho sức khoẻ? Uống nước tăng lực chứa cafeine như Bò Húc kèm rượu thì có tốt không? Đối với từng đối tượng khác nhau thì uống coffee Chi tiết Vypo Đổ Vỏ Paternity Fraud hay không? Diễn đàn Bác sĩ trẻ Việt Nam Tài liệu Bs. Phan Trúc Vừa qua mình nhận được cuộc gọi xin nhờ tư vấn của một ông bố với nội dung khá nhạy cảm Thưa Bs, tôi có nhóm máu AB, nay tình cờ biết được con tôi nhóm máu O, tôi có hỏi thăm nhiều người và họ nói Chi tiết 4 Significant Tips To Remember When Writing An Essay Diễn đàn Bác sĩ trẻ Việt Nam Uncategorized While its not too tough to write a good written essay, there are certain things you need to be aware of so you dont end up needing to rewrite the whole thing in the end. If you follow these three tips, you can dramatically boost your odds of being effective Chi tiết How to Begin Using Building a List To Your Mailorder Bride Site Diễn đàn Bác sĩ trẻ Việt Nam Uncategorized If youve stumbled up on this guide and are an avid user of the universe, you may not know latin mail order wives that Reddit can be just a superb place to locate details that is helpful. Here is a simple suggestion. You have to begin somewhere and Reddit is Chi tiết Page 1 of 151 2 2 3 3 4 4 5 5 10... Last Last Powered by Huynh Le Thai Bao Facebook FacebookYoutube Youtube Copyright 2025, Ykhoa.org Trang chủ Bài mới Cập nhật nghiên cứu Khóa học Y khoa - Khóa học lâm sàng - Nội khoa Harrison - Case lâm sàng - Kỹ năng lâm sàng Nội khoa - TBL Sản - Tiếp cận lâm sàng Nội khoa - Bệnh học tim mạch - Khóa học cận lâm sàng - Xquang Ngực - Siêu âm - CT-MRI - Xét nghiệm - ECG - Khóa học Y khoa Cơ sở - Sinh lý thú vị - Vi sinh lâm sàng - Sinh lý Guyton - Cơ chế triệu chứng - Khóa học Y khoa cơ bản - Y khoa cơ bản - Kinh nghiệm sinh viên Y - CME – Khóa đào tạo liên tục - SARI 2020 - Khóa học qua Video - UpToDate miễn phí Chuyên đề - Tin tức - Hợp tác COVID-19 Dành cho cộng đồng Tài liệu - Ebook - Guidelines - Bài giảng - Phần mềm Dự án - Hệ sinh thái Y khoa online - Hướng dẫn cài đặt app Trang chủ Bài mới Cập nhật nghiên cứu Khóa học Y khoa - Khóa học lâm sàng - Nội khoa Harrison - Case lâm sàng - Kỹ năng lâm sàng Nội khoa - TBL Sản - Tiếp cận lâm sàng Nội khoa - Bệnh học tim mạch - Khóa học cận lâm sàng - Xquang Ngực - Siêu âm - CT-MRI - Xét nghiệm - ECG - Khóa học Y khoa Cơ sở - Sinh lý thú vị - Vi sinh lâm sàng - Sinh lý Guyton - Cơ chế triệu chứng - Khóa học Y khoa cơ bản - Y khoa cơ bản - Kinh nghiệm sinh viên Y - CME – Khóa đào tạo liên tục - SARI 2020 - Khóa học qua Video - UpToDate miễn phí Chuyên đề - Tin tức - Hợp tác COVID-19 Dành cho cộng đồng Tài liệu - Ebook - Guidelines - Bài giảng - Phần mềm Dự án - Hệ sinh thái Y khoa online - Hướng dẫn cài đặt app')]"
      ]
     },
     "execution_count": 13,
     "metadata": {},
     "output_type": "execute_result"
    }
   ],
   "source": [
    "cleaned_data"
   ]
  },
  {
   "cell_type": "code",
   "execution_count": null,
   "id": "f55ad906",
   "metadata": {},
   "outputs": [],
   "source": []
  }
 ],
 "metadata": {
  "kernelspec": {
   "display_name": "chatbot",
   "language": "python",
   "name": "python3"
  },
  "language_info": {
   "codemirror_mode": {
    "name": "ipython",
    "version": 3
   },
   "file_extension": ".py",
   "mimetype": "text/x-python",
   "name": "python",
   "nbconvert_exporter": "python",
   "pygments_lexer": "ipython3",
   "version": "3.10.18"
  }
 },
 "nbformat": 4,
 "nbformat_minor": 5
}
