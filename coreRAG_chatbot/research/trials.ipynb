{
 "cells": [
  {
   "cell_type": "markdown",
   "id": "2d58609d",
   "metadata": {},
   "source": [
    "#Load dataset"
   ]
  },
  {
   "cell_type": "code",
   "execution_count": 3,
   "id": "c5f19c5b",
   "metadata": {},
   "outputs": [
    {
     "data": {
      "text/plain": [
       "'e:\\\\SpringBoot\\\\DoAnNganh\\\\Medical_News\\\\coreRAG_chatbot\\\\research'"
      ]
     },
     "execution_count": 3,
     "metadata": {},
     "output_type": "execute_result"
    }
   ],
   "source": [
    "%pwd"
   ]
  },
  {
   "cell_type": "code",
   "execution_count": null,
   "id": "f748cc87",
   "metadata": {},
   "outputs": [],
   "source": [
    "import os\n",
    "os.chdir('../')\n"
   ]
  },
  {
   "cell_type": "code",
   "execution_count": 6,
   "id": "3557b4d4",
   "metadata": {},
   "outputs": [
    {
     "data": {
      "text/plain": [
       "'e:\\\\SpringBoot\\\\DoAnNganh\\\\Medical_News\\\\coreRAG_chatbot'"
      ]
     },
     "execution_count": 6,
     "metadata": {},
     "output_type": "execute_result"
    }
   ],
   "source": [
    "%pwd   # -- check OK :   'e:\\\\SpringBoot\\\\DoAnNganh\\\\Medical_News\\\\coreRAG_chatbot'\n"
   ]
  },
  {
   "cell_type": "code",
   "execution_count": null,
   "id": "83cddc02",
   "metadata": {},
   "outputs": [],
   "source": [
    "\n",
    "from langchain.document_loaders import DirectoryLoader , UnstructuredWordDocumentLoader\n",
    "from langchain.text_splitter import RecursiveCharacterTextSplitter    \n",
    "\n",
    "\n",
    "def load_word_files(data):\n",
    "    loader = DirectoryLoader(\n",
    "        path=data,\n",
    "        glob=\"*.docx\",\n",
    "        loader_cls=UnstructuredWordDocumentLoader #loại file cần load   \n",
    "    )\n",
    "    documents = loader.load()\n",
    "    return documents\n"
   ]
  },
  {
   "cell_type": "code",
   "execution_count": null,
   "id": "9a8afe61",
   "metadata": {},
   "outputs": [],
   "source": [
    "extracted_data = load_word_files(data='DataChatbot/')"
   ]
  }
 ],
 "metadata": {
  "kernelspec": {
   "display_name": "chatbot",
   "language": "python",
   "name": "python3"
  },
  "language_info": {
   "codemirror_mode": {
    "name": "ipython",
    "version": 3
   },
   "file_extension": ".py",
   "mimetype": "text/x-python",
   "name": "python",
   "nbconvert_exporter": "python",
   "pygments_lexer": "ipython3",
   "version": "3.10.18"
  }
 },
 "nbformat": 4,
 "nbformat_minor": 5
}
